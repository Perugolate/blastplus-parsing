{
 "metadata": {
  "name": "",
  "signature": "sha256:b91c9e6b7e4507852289fce4a9f53efe4d2becc0525d96c64fd3aa2873f6529e"
 },
 "nbformat": 3,
 "nbformat_minor": 0,
 "worksheets": [
  {
   "cells": [
    {
     "cell_type": "markdown",
     "metadata": {},
     "source": [
      "Parse taxon names from `Trinity` blast results\n",
      "=============================================="
     ]
    },
    {
     "cell_type": "markdown",
     "metadata": {},
     "source": [
      "Run a blast and specify output format 6. Depending on the size of your input fasta file and the memory on your system, you probably want to split up the input fasta and/or also blast against the component parts of the nr/refseq on a cluster and then combine the output. E.g. to blast against each part of nr on a `Slurm` cluster:"
     ]
    },
    {
     "cell_type": "markdown",
     "metadata": {},
     "source": [
      "`Slurm` job script for individual blast, example.00.sh:"
     ]
    },
    {
     "cell_type": "code",
     "collapsed": false,
     "input": [
      "#!/usr/bin/env bash\n",
      "#SBATCH --job-name=example_nr.00\n",
      "#SBATCH --mail-user=your@email\n",
      "#SBATCH --mail-type=all\n",
      "#SBATCH --mem=3072\n",
      "#SBATCH --cpus-per-task=12\n",
      "#SBATCH --time=2-00:00:00\n",
      "blastx -query example.fna -db nr.00 -num_threads 12 -evalue 1e-3 -max_target_seqs 1 -outfmt \"6 qseqid sseqid pident length mismatch gapopen qstart qend sstart send stitle staxids sscinames evalue\" -out example.fna.nr.00.outfmt6"
     ],
     "language": "python",
     "metadata": {},
     "outputs": []
    },
    {
     "cell_type": "markdown",
     "metadata": {},
     "source": [
      "Make a `Slurm` job for each part of the nr blast database (at the time of writing nr is available from ftp://ftp.ncbi.nlm.nih.gov/blast/db/ in 32 parts):"
     ]
    },
    {
     "cell_type": "code",
     "collapsed": false,
     "input": [
      "%%bash\n",
      "for i in {01..32}\n",
      "do\n",
      "  sed \"s/nr.00/nr.$i/g\" example.00.sh > example.$i.sh\n",
      "done\n",
      "for i in *sh; do sbatch $i; done"
     ],
     "language": "python",
     "metadata": {},
     "outputs": []
    },
    {
     "cell_type": "markdown",
     "metadata": {},
     "source": [
      "Concatenate all blast results:"
     ]
    },
    {
     "cell_type": "code",
     "collapsed": false,
     "input": [
      "%%bash\n",
      "cat *outfmt6 > outfmt6.all"
     ],
     "language": "python",
     "metadata": {},
     "outputs": [],
     "prompt_number": 1
    },
    {
     "cell_type": "markdown",
     "metadata": {},
     "source": [
      "For each 'gene', keep the blast result with the smallest e-value. This relies on the format of the current (v2.0.6, e.g. 'TR10000|c0_g1_i1') `Trinity` fasta headers:"
     ]
    },
    {
     "cell_type": "code",
     "collapsed": false,
     "input": [
      "%%bash\n",
      "sort -t _ -k1,2 outfmt6.all | sort -t$'\\t' -k14,14g | sort -t _ -k1,2 -u > outfmt6.all.uniq"
     ],
     "language": "python",
     "metadata": {},
     "outputs": [],
     "prompt_number": 2
    },
    {
     "cell_type": "code",
     "collapsed": false,
     "input": [
      "import pandas\n",
      "import matplotlib\n",
      "import matplotlib.pyplot as plt"
     ],
     "language": "python",
     "metadata": {},
     "outputs": [],
     "prompt_number": 3
    },
    {
     "cell_type": "code",
     "collapsed": false,
     "input": [
      "def blast_in(in_file):\n",
      "  blast_data = pandas.read_table(in_file,header = None)\n",
      "  blast_data = pandas.DataFrame(blast_data)\n",
      "  return blast_data\n",
      "\n",
      "def genus(blast_data):\n",
      "  desc = blast_data[tax_field]\n",
      "  desc = desc.str.split(' ').str.get(0)\n",
      "  desc = desc.str.split(';').str.get(0)\n",
      "  desc = desc.value_counts()\n",
      "  topfreq_desc = desc[:num_tophits]\n",
      "  return topfreq_desc\n",
      "\n",
      "def plot_out(topfreq_desc):\n",
      "  fig = plt.figure()\n",
      "  topfreq_desc.plot(kind='barh')\n",
      "  plt.title(\"Top blast hits\")\n",
      "  plt.xlabel(\"Number of best hits\")\n",
      "  plt.ylabel(\"Taxa\")\n",
      "  fig.tight_layout()"
     ],
     "language": "python",
     "metadata": {},
     "outputs": [],
     "prompt_number": 4
    },
    {
     "cell_type": "markdown",
     "metadata": {},
     "source": [
      "Define the field (column) containing the taxa ids (zero-based index) and number of taxa to plot (one-based index):"
     ]
    },
    {
     "cell_type": "code",
     "collapsed": false,
     "input": [
      "tax_field = int(12)\n",
      "num_tophits = int(15)"
     ],
     "language": "python",
     "metadata": {},
     "outputs": [],
     "prompt_number": 5
    },
    {
     "cell_type": "code",
     "collapsed": false,
     "input": [
      "%matplotlib inline\n",
      "blast_data = blast_in(\"outfmt6.all.uniq\")\n",
      "topfreq_desc = genus(blast_data)\n",
      "plot_out(topfreq_desc)"
     ],
     "language": "python",
     "metadata": {},
     "outputs": [
      {
       "metadata": {},
       "output_type": "display_data",
       "png": "[encoded data removed]",
       "text": [
        "<matplotlib.figure.Figure at 0x7f94a88eed90>"
       ]
      }
     ],
     "prompt_number": 6
    },
    {
     "cell_type": "markdown",
     "metadata": {},
     "source": [
      "Or to a plot, after merging the blast output and filtering for best hits:"
     ]
    },
    {
     "cell_type": "code",
     "collapsed": false,
     "input": [
      "%%bash\n",
      "python blastplus_taxa_barh.py outfmt6.all.uniq 13 15 taxa_plot.png"
     ],
     "language": "python",
     "metadata": {},
     "outputs": []
    },
    {
     "cell_type": "markdown",
     "metadata": {},
     "source": [
      "Or if `blastplus_taxa_barh.py` is in your `PYTHONPATH` then:"
     ]
    },
    {
     "cell_type": "code",
     "collapsed": false,
     "input": [
      "from blastplus_taxa_barh import *"
     ],
     "language": "python",
     "metadata": {},
     "outputs": [],
     "prompt_number": 4
    },
    {
     "cell_type": "code",
     "collapsed": false,
     "input": [
      "%matplotlib inline\n",
      "blast_data = blast_in(\"outfmt6.all.uniq\")\n",
      "topfreq_desc = genus(blast_data, int(12),int(15))\n",
      "plot_in(topfreq_desc)"
     ],
     "language": "python",
     "metadata": {},
     "outputs": [
      {
       "metadata": {},
       "output_type": "display_data",
       "png": "[encoded data removed]",
       "text": [
        "<matplotlib.figure.Figure at 0x7f56b18af4d0>"
       ]
      }
     ],
     "prompt_number": 7
    },
    {
     "cell_type": "code",
     "collapsed": false,
     "input": [
      "blast_data.head()"
     ],
     "language": "python",
     "metadata": {},
     "outputs": [
      {
       "html": [
        "<div style=\"max-height:1000px;max-width:1500px;overflow:auto;\">\n",
        "<table border=\"1\" class=\"dataframe\">\n",
        "  <thead>\n",
        "    <tr style=\"text-align: right;\">\n",
        "      <th></th>\n",
        "      <th>0</th>\n",
        "      <th>1</th>\n",
        "      <th>2</th>\n",
        "      <th>3</th>\n",
        "      <th>4</th>\n",
        "      <th>5</th>\n",
        "      <th>6</th>\n",
        "      <th>7</th>\n",
        "      <th>8</th>\n",
        "      <th>9</th>\n",
        "      <th>10</th>\n",
        "      <th>11</th>\n",
        "      <th>12</th>\n",
        "      <th>13</th>\n",
        "    </tr>\n",
        "  </thead>\n",
        "  <tbody>\n",
        "    <tr>\n",
        "      <th>0</th>\n",
        "      <td> TR10144|c0_g1_i1</td>\n",
        "      <td> gi|544770924|ref|WP_021196208.1|</td>\n",
        "      <td> 100</td>\n",
        "      <td> 20</td>\n",
        "      <td> 0</td>\n",
        "      <td> 0</td>\n",
        "      <td> 60</td>\n",
        "      <td>  1</td>\n",
        "      <td>  64</td>\n",
        "      <td>  83</td>\n",
        "      <td> terpene utilization protein AtuA [Ralstonia sp...</td>\n",
        "      <td> 1235457</td>\n",
        "      <td>      Ralstonia sp. AU12-08</td>\n",
        "      <td> 0.001000</td>\n",
        "    </tr>\n",
        "    <tr>\n",
        "      <th>1</th>\n",
        "      <td> TR10186|c0_g1_i1</td>\n",
        "      <td> gi|490789651|ref|WP_004651801.1|</td>\n",
        "      <td> 100</td>\n",
        "      <td> 19</td>\n",
        "      <td> 0</td>\n",
        "      <td> 0</td>\n",
        "      <td>  3</td>\n",
        "      <td> 59</td>\n",
        "      <td> 391</td>\n",
        "      <td> 409</td>\n",
        "      <td> hypothetical protein [Acinetobacter sp. ANC 3994]</td>\n",
        "      <td> 1217715</td>\n",
        "      <td> Acinetobacter sp. ANC 3994</td>\n",
        "      <td> 0.000020</td>\n",
        "    </tr>\n",
        "    <tr>\n",
        "      <th>2</th>\n",
        "      <td> TR10270|c0_g1_i1</td>\n",
        "      <td> gi|224103219|ref|XP_002312970.1|</td>\n",
        "      <td>  95</td>\n",
        "      <td> 20</td>\n",
        "      <td> 1</td>\n",
        "      <td> 0</td>\n",
        "      <td> 60</td>\n",
        "      <td>  1</td>\n",
        "      <td> 505</td>\n",
        "      <td> 524</td>\n",
        "      <td>           predicted protein [Populus trichocarpa]</td>\n",
        "      <td>    3694</td>\n",
        "      <td>        Populus trichocarpa</td>\n",
        "      <td> 0.000004</td>\n",
        "    </tr>\n",
        "    <tr>\n",
        "      <th>3</th>\n",
        "      <td> TR10309|c0_g1_i1</td>\n",
        "      <td> gi|255576756|ref|XP_002529265.1|</td>\n",
        "      <td>  95</td>\n",
        "      <td> 20</td>\n",
        "      <td> 1</td>\n",
        "      <td> 0</td>\n",
        "      <td>  1</td>\n",
        "      <td> 60</td>\n",
        "      <td>  57</td>\n",
        "      <td>  76</td>\n",
        "      <td> 60S ribosomal protein L13, putative [Ricinus c...</td>\n",
        "      <td>    3988</td>\n",
        "      <td>           Ricinus communis</td>\n",
        "      <td> 0.000007</td>\n",
        "    </tr>\n",
        "    <tr>\n",
        "      <th>4</th>\n",
        "      <td> TR10330|c0_g1_i1</td>\n",
        "      <td> gi|554633737|ref|WP_023168797.1|</td>\n",
        "      <td> 100</td>\n",
        "      <td> 19</td>\n",
        "      <td> 0</td>\n",
        "      <td> 0</td>\n",
        "      <td> 58</td>\n",
        "      <td>  2</td>\n",
        "      <td> 205</td>\n",
        "      <td> 223</td>\n",
        "      <td> bifunctional aconitate hydratase 2/2-methyliso...</td>\n",
        "      <td>   28901</td>\n",
        "      <td>        Salmonella enterica</td>\n",
        "      <td> 0.000100</td>\n",
        "    </tr>\n",
        "  </tbody>\n",
        "</table>\n",
        "</div>"
       ],
       "metadata": {},
       "output_type": "pyout",
       "prompt_number": 9,
       "text": [
        "                 0                                 1    2   3   4   5   6   \\\n",
        "0  TR10144|c0_g1_i1  gi|544770924|ref|WP_021196208.1|  100  20   0   0  60   \n",
        "1  TR10186|c0_g1_i1  gi|490789651|ref|WP_004651801.1|  100  19   0   0   3   \n",
        "2  TR10270|c0_g1_i1  gi|224103219|ref|XP_002312970.1|   95  20   1   0  60   \n",
        "3  TR10309|c0_g1_i1  gi|255576756|ref|XP_002529265.1|   95  20   1   0   1   \n",
        "4  TR10330|c0_g1_i1  gi|554633737|ref|WP_023168797.1|  100  19   0   0  58   \n",
        "\n",
        "   7    8    9                                                  10       11  \\\n",
        "0   1   64   83  terpene utilization protein AtuA [Ralstonia sp...  1235457   \n",
        "1  59  391  409  hypothetical protein [Acinetobacter sp. ANC 3994]  1217715   \n",
        "2   1  505  524            predicted protein [Populus trichocarpa]     3694   \n",
        "3  60   57   76  60S ribosomal protein L13, putative [Ricinus c...     3988   \n",
        "4   2  205  223  bifunctional aconitate hydratase 2/2-methyliso...    28901   \n",
        "\n",
        "                           12        13  \n",
        "0       Ralstonia sp. AU12-08  0.001000  \n",
        "1  Acinetobacter sp. ANC 3994  0.000020  \n",
        "2         Populus trichocarpa  0.000004  \n",
        "3            Ricinus communis  0.000007  \n",
        "4         Salmonella enterica  0.000100  "
       ]
      }
     ],
     "prompt_number": 9
    },
    {
     "cell_type": "code",
     "collapsed": false,
     "input": [
      "topfreq_desc"
     ],
     "language": "python",
     "metadata": {},
     "outputs": [
      {
       "metadata": {},
       "output_type": "pyout",
       "prompt_number": 11,
       "text": [
        "Escherichia    96\n",
        "Ralstonia      79\n",
        "Solanum        75\n",
        "Populus        62\n",
        "Arabidopsis    61\n",
        "Glycine        37\n",
        "Vitis          34\n",
        "Cucumis        31\n",
        "Ricinus        29\n",
        "Medicago       29\n",
        "Salmonella     25\n",
        "Oryza          23\n",
        "Cicer          16\n",
        "Capsella       16\n",
        "Fragaria       15\n",
        "dtype: int64"
       ]
      }
     ],
     "prompt_number": 11
    },
    {
     "cell_type": "code",
     "collapsed": false,
     "input": [
      "plot_in(topfreq_desc)"
     ],
     "language": "python",
     "metadata": {},
     "outputs": [
      {
       "metadata": {},
       "output_type": "display_data",
       "png": "[encoded data removed]",
       "text": [
        "<matplotlib.figure.Figure at 0x7f56b18350d0>"
       ]
      }
     ],
     "prompt_number": 12
    }
   ],
   "metadata": {}
  }
 ]
}