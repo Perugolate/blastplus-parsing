{
 "metadata": {
  "name": "",
  "signature": "sha256:fb4e044102e57b83bca6b69755ed3132e77558cdd72d2d5b721bf91b32027645"
 },
 "nbformat": 3,
 "nbformat_minor": 0,
 "worksheets": [
  {
   "cells": [
    {
     "cell_type": "markdown",
     "metadata": {},
     "source": [
      "Parse taxon names from `Trinity` blast results\n",
      "=============================================="
     ]
    },
    {
     "cell_type": "markdown",
     "metadata": {},
     "source": [
      "Run a blast and specify output format 6. Depending on the size of your input fasta file and the memory on your system, you probably want to split up the input fasta and/or blast against the component parts of the nr/refseq etc on a cluster and then combine the output. E.g. on a slurm cluster to blast against each part of nr:"
     ]
    },
    {
     "cell_type": "markdown",
     "metadata": {},
     "source": [
      "Slurm job script for individual blast, example.00.sh:"
     ]
    },
    {
     "cell_type": "code",
     "collapsed": false,
     "input": [
      "#!/usr/bin/env bash\n",
      "#SBATCH --job-name=example_nr.00\n",
      "#SBATCH --mail-user=paul.johnston@fu-berlin.de\n",
      "#SBATCH --mail-type=all\n",
      "#SBATCH --mem=3072\n",
      "#SBATCH --cpus-per-task=12\n",
      "#SBATCH --time=2-00:00:00\n",
      "blastx -query example.fna -db nr.00 -num_threads 12 -evalue 1e-3 -max_target_seqs 1 -outfmt \"6 qseqid sseqid pident length mismatch gapopen qstart qend sstart send stitle staxids sscinames evalue\" -out example.fna.nr.00.outfmt6"
     ],
     "language": "python",
     "metadata": {},
     "outputs": []
    },
    {
     "cell_type": "markdown",
     "metadata": {},
     "source": [
      "Make a slurm job for each part of the nr blast database (at the time of writing nr is available from ftp://ftp.ncbi.nlm.nih.gov/blast/db/ in 32 parts):"
     ]
    },
    {
     "cell_type": "code",
     "collapsed": false,
     "input": [
      "%%bash\n",
      "for i in {01..32}\n",
      "do\n",
      "  sed \"s/nr.00/nr.$i/g\" example.00.sh > example.$i.sh\n",
      "done\n",
      "for i in *sh; do sbatch $i; done"
     ],
     "language": "python",
     "metadata": {},
     "outputs": []
    },
    {
     "cell_type": "markdown",
     "metadata": {},
     "source": [
      "Concatenate all blast results:"
     ]
    },
    {
     "cell_type": "code",
     "collapsed": false,
     "input": [
      "%%bash\n",
      "cat *outfmt6 > outfmt6.all"
     ],
     "language": "python",
     "metadata": {},
     "outputs": [],
     "prompt_number": 10
    },
    {
     "cell_type": "markdown",
     "metadata": {},
     "source": [
      "For each contig, keep the blast result with the smallest e-value. This relies on the format of the current (v2.0.6) `Trinity` fasta headers:"
     ]
    },
    {
     "cell_type": "code",
     "collapsed": false,
     "input": [
      "%%bash\n",
      "sort -t _ -k1,2 outfmt6.all | sort -t$'\\t' -k14,14g | sort -t _ -k1,2 -u > outfmt6.all.uniq"
     ],
     "language": "python",
     "metadata": {},
     "outputs": [],
     "prompt_number": 11
    },
    {
     "cell_type": "code",
     "collapsed": false,
     "input": [
      "import sys\n",
      "import glob\n",
      "import pandas\n",
      "import matplotlib\n",
      "import matplotlib.pyplot as plt"
     ],
     "language": "python",
     "metadata": {},
     "outputs": [],
     "prompt_number": 12
    },
    {
     "cell_type": "code",
     "collapsed": false,
     "input": [
      "def blast_in(in_file):\n",
      "  blast_data = pandas.read_table(in_file,header = None)\n",
      "  blast_data = pandas.DataFrame(blast_data)\n",
      "  return blast_data\n",
      "\n",
      "def genus(blast_data):\n",
      "  desc = blast_data[tax_field]\n",
      "  desc = desc.str.split(' ').str.get(0)\n",
      "  desc = desc.str.split(';').str.get(0)\n",
      "  desc = desc.value_counts()\n",
      "  topfreq_desc = desc[:num_tophits]\n",
      "  return topfreq_desc\n",
      "\n",
      "def plot_out(topfreq_desc):\n",
      "  fig = plt.figure()\n",
      "  topfreq_desc.plot(kind='barh')\n",
      "  plt.title(\"Top blast hits\")\n",
      "  plt.xlabel(\"Number of best hits\")\n",
      "  plt.ylabel(\"Taxa\")\n",
      "  fig.tight_layout()"
     ],
     "language": "python",
     "metadata": {},
     "outputs": [],
     "prompt_number": 13
    },
    {
     "cell_type": "markdown",
     "metadata": {},
     "source": [
      "Define the field (column) containing the taxa ids (zero-based index) and number of taxa to plot (one-based index):"
     ]
    },
    {
     "cell_type": "code",
     "collapsed": false,
     "input": [
      "tax_field = int(12)\n",
      "num_tophits = int(15)"
     ],
     "language": "python",
     "metadata": {},
     "outputs": [],
     "prompt_number": 14
    },
    {
     "cell_type": "code",
     "collapsed": false,
     "input": [
      "%matplotlib inline\n",
      "blast_data = blast_in(\"outfmt6.all.uniq\")\n",
      "topfreq_desc = genus(blast_data)\n",
      "plot_out(topfreq_desc)"
     ],
     "language": "python",
     "metadata": {},
     "outputs": [
      {
       "metadata": {},
       "output_type": "display_data",
       "png": "[encoded data removed]",
       "text": [
        "<matplotlib.figure.Figure at 0x7f8fc472cc50>"
       ]
      }
     ],
     "prompt_number": 15
    }
   ],
   "metadata": {}
  }
 ]
}